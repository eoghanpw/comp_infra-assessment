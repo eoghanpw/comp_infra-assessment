{
 "cells": [
  {
   "cell_type": "markdown",
   "metadata": {},
   "source": [
    "# Computer Infrastructure - Tasks Notebook\n",
    "\n",
    "This notebook summarizes my work on the tasks portion of the assessment for the module Computer Infrastructure.\n",
    "\n",
    "*by Eoghan Walsh*"
   ]
  },
  {
   "cell_type": "markdown",
   "metadata": {},
   "source": [
    "## Task 1: Create Directory Structure"
   ]
  },
  {
   "cell_type": "markdown",
   "metadata": {},
   "source": [
    "I used the following bash commands on the command line to create a directory named ``data`` and two subdirectories ``timestamps`` and ``weather`` at the root of my ``comp_infra-assessment`` repository:\n",
    "```sh\n",
    "    mkdir -p data/timestamps\n",
    "    mkdir -p data/weather\n",
    "```\n",
    "The ``mkdir`` command creates the directories, if they do not already exist. The ``-p`` argument will make the parent directory as needed, and not throw up an error if existing."
   ]
  },
  {
   "cell_type": "markdown",
   "metadata": {},
   "source": [
    "## Task 2: Timestamps"
   ]
  },
  {
   "cell_type": "markdown",
   "metadata": {},
   "source": [
    "I navigated to the ``data/timestamps`` directory from the root of my repository using following command:\n",
    "```bash\n",
    "    cd data/timestamps/\n",
    "```\n",
    "I then used following bash command to append the current date and time to a file named `now.txt`:\n",
    "```sh\n",
    "    date >> now.txt\n",
    "```\n",
    "``date`` outputs the current date and time and ``>>`` appends the output to the file. The file will be created if it doesn't exist."
   ]
  },
  {
   "cell_type": "markdown",
   "metadata": {},
   "source": [
    "I executed the ``date >> now.txt`` command a total of ten times and then used the ``more`` commmand to display the contents of the file `now.txt` in the terminal:\n",
    "```sh\n",
    "   more now.txt\n",
    "```\n",
    "&nbsp;&nbsp;&nbsp;&nbsp;&nbsp;&nbsp;*terminal output:*\n",
    "```output\n",
    "   Wed Oct 16 20:09:59 IST 2024\n",
    "   Wed Oct 16 20:10:01 IST 2024\n",
    "   Wed Oct 16 20:10:02 IST 2024\n",
    "   Wed Oct 16 20:10:04 IST 2024\n",
    "   Wed Oct 16 20:10:05 IST 2024\n",
    "   Wed Oct 16 20:10:06 IST 2024\n",
    "   Wed Oct 16 20:10:07 IST 2024\n",
    "   Wed Oct 16 20:10:08 IST 2024\n",
    "   Wed Oct 16 20:10:17 IST 2024\n",
    "   Wed Oct 16 20:10:18 IST 2024\n",
    "```"
   ]
  },
  {
   "cell_type": "markdown",
   "metadata": {},
   "source": [
    "## Task 3: Formatting Timestamps"
   ]
  },
  {
   "cell_type": "markdown",
   "metadata": {},
   "source": [
    "I used the ``date --help`` command to view the formatting options available. Below is a selection of some of the interpreted sequences.\n",
    "```output\n",
    "   %d   day of month (e.g., 01)\n",
    "   %H   hour (00..23)\n",
    "   %m   month (01..12)\n",
    "   %M   minute (00..59)\n",
    "   %S   second (00..60)\n",
    "   %Y   year\n",
    "```\n",
    "\n",
    "I then used the following bash command to append the current date and time to a file named ``formatted.txt`` in the format ``YYYYmmdd_HHMMSS``:\n",
    "```sh\n",
    "   date +\"%Y%m%d_%H%M%S\" >> formatted.txt\n",
    "```\n",
    "I used the ``more`` command to view the contents of the file and ensure the date was in the desired format.\n",
    "```sh\n",
    "   more formatted.txt\n",
    "```\n",
    "&nbsp;&nbsp;&nbsp;&nbsp;&nbsp;&nbsp;*terminal output:*\n",
    "```output\n",
    "   20241016_210537\n",
    "```"
   ]
  },
  {
   "cell_type": "markdown",
   "metadata": {},
   "source": [
    "## Task 4: Create Timestamped Files"
   ]
  },
  {
   "cell_type": "markdown",
   "metadata": {},
   "source": [
    "I used the following bash command to create an empty file with the name in the ``YYYYmmdd_HHMMSS.txt`` format:\n",
    "```sh\n",
    "    touch `date +\"%Y%m%d_%H%M%S.txt\"`\n",
    "```\n",
    "The ``touch`` command updates the modification time of a file to the current time but will also create a file that does not exist."
   ]
  },
  {
   "cell_type": "markdown",
   "metadata": {},
   "source": [
    "## Task 5: Download Today's Weather Data"
   ]
  },
  {
   "cell_type": "markdown",
   "metadata": {},
   "source": [
    "I navigated from the ``data/timestamps`` directory to the ``data/weather`` directory using following command:\n",
    "```sh\n",
    "   cd ../weather/\n",
    "```\n",
    "I used the following bash command to download weather data for the Athenry weather station from this Met Eireann URL: ``https://prodapi.metweb.ie/observations/athenry/today`` and save the file as ``weather.json``.\n",
    "```sh\n",
    "   wget -O weather.json https://prodapi.metweb.ie/observations/athenry/today\n",
    "```\n",
    "&nbsp;&nbsp;&nbsp;&nbsp;&nbsp;&nbsp;*terminal output:*\n",
    "```output\n",
    "   --2024-10-29 18:58:34--  https://prodapi.metweb.ie/observations/athenry/today\n",
    "   Resolving prodapi.metweb.ie (prodapi.metweb.ie)... 139.162.185.91\n",
    "   Connecting to prodapi.metweb.ie (prodapi.metweb.ie)|139.162.185.91|:443... connected.\n",
    "   HTTP request sent, awaiting response... 200 OK\n",
    "   Length: unspecified [application/json]\n",
    "   Saving to: ‘weather.json’\n",
    "\n",
    "   weather.json       [ <=>        ]   5.62K  --.-KB/s    in 0s\n",
    "\n",
    "   2024-10-29 18:58:41 (343 MB/s) - ‘weather.json’ saved [5757]\n",
    "```\n",
    "The ``wget`` command retrieves the data from the URL and the ``-O`` argument writes the data to the file ``weather.json``."
   ]
  },
  {
   "cell_type": "markdown",
   "metadata": {},
   "source": [
    "## Task 6: Timestamp the Data"
   ]
  },
  {
   "cell_type": "markdown",
   "metadata": {},
   "source": [
    "I used the following bash command to download weather data for the Athenry weather station from the Met Eireann URL and save the file with a timestamped name in the format ``YYYYmmdd_HHMMSS.json``.\n",
    "\n",
    "```sh\n",
    "   wget -O `date +\"%Y%m%d_%H%M%S.json\"` https://prodapi.metweb.ie/observations/athenry/today\n",
    "```\n",
    "&nbsp;&nbsp;&nbsp;&nbsp;&nbsp;&nbsp;*terminal output:*\n",
    "```output\n",
    "   --2024-10-29 19:06:17--  https://prodapi.metweb.ie/observations/athenry/today\n",
    "   Resolving prodapi.metweb.ie (prodapi.metweb.ie)... 139.162.185.91\n",
    "   Connecting to prodapi.metweb.ie (prodapi.metweb.ie)|139.162.185.91|:443... connected.\n",
    "   HTTP request sent, awaiting response... 200 OK\n",
    "   Length: unspecified [application/json]\n",
    "   Saving to: ‘20241029_190617.json’\n",
    "\n",
    "   20241029_190617.json     [ <=>         ]   5.62K  --.-KB/s    in 0s\n",
    "\n",
    "   2024-10-29 19:06:18 (33.4 MB/s) - ‘20241029_190617.json’ saved [5757]\n",
    "```"
   ]
  },
  {
   "cell_type": "markdown",
   "metadata": {},
   "source": [
    "## Task 7: Write the Script"
   ]
  },
  {
   "cell_type": "markdown",
   "metadata": {},
   "source": [
    "I navigated from the ``data/weather`` back to the root of my repository using the ``cd ../../`` command and then I used the ``touch`` command to create an empty file named ``weather.sh``.\n",
    "```sh\n",
    "   touch weather.sh\n",
    "```\n",
    "I copied the following bash command into ``weather.sh``:\n",
    "```sh\n",
    "   #! /bin/bash\n",
    "\n",
    "   wget -O data/weather/`date +\"%Y%m%d_%H%M%S.json\"` https://prodapi.metweb.ie/observations/athenry/today\n",
    "```\n",
    "The ``#! /bin/bash`` is know as the shebang and is added to the beginning of the script to instruct the operating system to use Bash as the default shell to run the script, as explained per [geeksforgeeks.org](\"https://www.geeksforgeeks.org/shell-scripting-define-bin-bash/\")"
   ]
  },
  {
   "cell_type": "markdown",
   "metadata": {},
   "source": [
    "Before running the bash script, I had to check if the ``weather.sh`` file is executable.\n",
    "\n",
    "I used the ``ls -l`` command to view the permissions of the file.\n",
    "```sh\n",
    "   ls -l weather.sh\n",
    "```\n",
    "&nbsp;&nbsp;&nbsp;&nbsp;&nbsp;&nbsp;*terminal output:*\n",
    "```output\n",
    "   -rwxrwxrwx 1 ewalsh ewalsh 116 Nov 27 20:46 weather.sh\n",
    "```\n",
    "The first column of the above output shows the permissions of the file and if this has the ``x`` permission, it is executable.\n",
    "\n",
    "If the file does not have the ``x`` permission the following bash command can be used to make the file executable:\n",
    "```bash\n",
    "   chmod +x weather.sh\n",
    "```"
   ]
  },
  {
   "cell_type": "markdown",
   "metadata": {},
   "source": [
    "Once I knew the ``weather.sh`` file had the ``x`` permission, I used the following bash command to execute the bash script:\n",
    "```sh\n",
    "   ./weather.sh\n",
    "```\n",
    "&nbsp;&nbsp;&nbsp;&nbsp;&nbsp;&nbsp;*terminal output:*\n",
    "```output\n",
    "   --2024-11-13 19:06:14--  https://prodapi.metweb.ie/observations/athenry/today\n",
    "   Resolving prodapi.metweb.ie (prodapi.metweb.ie)... 139.162.185.91\n",
    "   Connecting to prodapi.metweb.ie (prodapi.metweb.ie)|139.162.185.91|:443... connected.\n",
    "   HTTP request sent, awaiting response... 200 OK\n",
    "   Length: unspecified [application/json]\n",
    "   Saving to: ‘data/weather/20241113_190614.json’\n",
    "\n",
    "   data/weather/20241113_190614.json    [ <=>            ]   5.54K  --.-KB/s    in 0s\n",
    "\n",
    "   2024-11-13 19:06:15 (471 MB/s) - ‘data/weather/20241113_190614.json’ saved [5673]\n",
    "```\n"
   ]
  },
  {
   "cell_type": "markdown",
   "metadata": {},
   "source": [
    "When executed, the ``weather.sh`` bash script downloads the weather data from the URL and saves the file with a timestamped name to the ``data/weather`` directory."
   ]
  },
  {
   "cell_type": "markdown",
   "metadata": {},
   "source": [
    "## Task 8: Notebook"
   ]
  },
  {
   "cell_type": "markdown",
   "metadata": {},
   "source": [
    "I used the following bash command to create this notebook in the root of my ``comp_infra-assessment`` repository:\n",
    "\n",
    "```sh\n",
    "   touch weather2.ipynb\n",
    "```"
   ]
  },
  {
   "cell_type": "markdown",
   "metadata": {},
   "source": [
    "## Task 9: pandas"
   ]
  },
  {
   "cell_type": "markdown",
   "metadata": {},
   "source": [
    "***\n",
    "\n",
    "## End"
   ]
  }
 ],
 "metadata": {
  "kernelspec": {
   "display_name": "base",
   "language": "python",
   "name": "python3"
  },
  "language_info": {
   "codemirror_mode": {
    "name": "ipython",
    "version": 3
   },
   "file_extension": ".py",
   "mimetype": "text/x-python",
   "name": "python",
   "nbconvert_exporter": "python",
   "pygments_lexer": "ipython3",
   "version": "3.12.4"
  }
 },
 "nbformat": 4,
 "nbformat_minor": 2
}
