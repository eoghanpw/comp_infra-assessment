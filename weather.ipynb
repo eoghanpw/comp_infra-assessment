{
 "cells": [
  {
   "cell_type": "markdown",
   "metadata": {},
   "source": [
    "# Computer Infrastructure - Tasks Notebook\n",
    "\n",
    "This notebook summarizes my work on the tasks portion of the assessment for the module Computer Infrastructure.\n",
    "\n",
    "*by Eoghan Walsh*"
   ]
  },
  {
   "cell_type": "markdown",
   "metadata": {},
   "source": [
    "## Task 1: Create Directory Structure"
   ]
  },
  {
   "cell_type": "markdown",
   "metadata": {},
   "source": [
    "I used the following bash commands on the command line to create a directory named ``data`` and two subdirectories: ``timestamps`` and ``weather``, at the root of my ``comp_infra-assessment`` repository:\n",
    "```sh\n",
    "   mkdir -p data/timestamps\n",
    "   mkdir -p data/weather\n",
    "```\n",
    "The ``mkdir`` command creates the directories if they do not already exist. The ``-p`` argument will make the parent directory as needed, and not throw up an error if existing."
   ]
  },
  {
   "cell_type": "markdown",
   "metadata": {},
   "source": [
    "## Task 2: Timestamps"
   ]
  },
  {
   "cell_type": "markdown",
   "metadata": {},
   "source": [
    "I navigated to the ``data/timestamps`` directory from the root of my repository using following command:\n",
    "```bash\n",
    "   cd data/timestamps/\n",
    "```\n",
    "I then used following bash command to append the current date and time to a file named `now.txt`:\n",
    "```sh\n",
    "   date >> now.txt\n",
    "```\n",
    "``date`` outputs the current date and time and ``>>`` appends the output to the file. The file will be created if it does not exist."
   ]
  },
  {
   "cell_type": "markdown",
   "metadata": {},
   "source": [
    "I executed the ``date >> now.txt`` command a total of ten times and then used the ``more`` command to display the contents of the file `now.txt` in the terminal:\n",
    "```sh\n",
    "   more now.txt\n",
    "```\n",
    "&nbsp;&nbsp;&nbsp;&nbsp;&nbsp;&nbsp;*terminal output:*\n",
    "```output\n",
    "   Wed Oct 16 20:09:59 IST 2024\n",
    "   Wed Oct 16 20:10:01 IST 2024\n",
    "   Wed Oct 16 20:10:02 IST 2024\n",
    "   Wed Oct 16 20:10:04 IST 2024\n",
    "   Wed Oct 16 20:10:05 IST 2024\n",
    "   Wed Oct 16 20:10:06 IST 2024\n",
    "   Wed Oct 16 20:10:07 IST 2024\n",
    "   Wed Oct 16 20:10:08 IST 2024\n",
    "   Wed Oct 16 20:10:17 IST 2024\n",
    "   Wed Oct 16 20:10:18 IST 2024\n",
    "```"
   ]
  },
  {
   "cell_type": "markdown",
   "metadata": {},
   "source": [
    "## Task 3: Formatting Timestamps"
   ]
  },
  {
   "cell_type": "markdown",
   "metadata": {},
   "source": [
    "I used the ``date --help`` command to view the formatting options available. Below is a selection of the formatting options I used.\n",
    "```output\n",
    "   %d   day of month (e.g., 01)\n",
    "   %H   hour (00..23)\n",
    "   %m   month (01..12)\n",
    "   %M   minute (00..59)\n",
    "   %S   second (00..60)\n",
    "   %Y   year\n",
    "```\n",
    "\n",
    "I then used the following bash command to append the current date and time to a file named ``formatted.txt`` in the format ``YYYYmmdd_HHMMSS``:\n",
    "```sh\n",
    "   date +\"%Y%m%d_%H%M%S\" >> formatted.txt\n",
    "```\n",
    "I used the ``more`` command to view the contents of the file and ensure the date was in the desired format.\n",
    "```sh\n",
    "   more formatted.txt\n",
    "```\n",
    "&nbsp;&nbsp;&nbsp;&nbsp;&nbsp;&nbsp;*terminal output:*\n",
    "```output\n",
    "   20241016_210537\n",
    "```"
   ]
  },
  {
   "cell_type": "markdown",
   "metadata": {},
   "source": [
    "## Task 4: Create Timestamped Files"
   ]
  },
  {
   "cell_type": "markdown",
   "metadata": {},
   "source": [
    "I used the following bash command to create an empty file with the name in the ``YYYYmmdd_HHMMSS.txt`` format:\n",
    "```sh\n",
    "   touch `date +\"%Y%m%d_%H%M%S.txt\"`\n",
    "```\n",
    "The ``touch`` command updates the modification time of a file to the current time but will also create a file that does not exist."
   ]
  },
  {
   "cell_type": "markdown",
   "metadata": {},
   "source": [
    "## Task 5: Download Today's Weather Data"
   ]
  },
  {
   "cell_type": "markdown",
   "metadata": {},
   "source": [
    "I navigated from the ``data/timestamps`` directory to the ``data/weather`` directory using following command:\n",
    "```sh\n",
    "   cd ../weather/\n",
    "```\n",
    "I used the following bash command to download weather data for the Athenry weather station from this Met Eireann URL: ``https://prodapi.metweb.ie/observations/athenry/today`` and save the file as ``weather.json``.\n",
    "```sh\n",
    "   wget -O weather.json https://prodapi.metweb.ie/observations/athenry/today\n",
    "```\n",
    "&nbsp;&nbsp;&nbsp;&nbsp;&nbsp;&nbsp;*terminal output:*\n",
    "```output\n",
    "   --2024-10-29 18:58:34--  https://prodapi.metweb.ie/observations/athenry/today\n",
    "   Resolving prodapi.metweb.ie (prodapi.metweb.ie)... 139.162.185.91\n",
    "   Connecting to prodapi.metweb.ie (prodapi.metweb.ie)|139.162.185.91|:443... connected.\n",
    "   HTTP request sent, awaiting response... 200 OK\n",
    "   Length: unspecified [application/json]\n",
    "   Saving to: ‘weather.json’\n",
    "\n",
    "   weather.json       [ <=>        ]   5.62K  --.-KB/s    in 0s\n",
    "\n",
    "   2024-10-29 18:58:41 (343 MB/s) - ‘weather.json’ saved [5757]\n",
    "```\n",
    "The ``wget`` command retrieves the data from the URL and the ``-O`` argument writes the data to the file ``weather.json``."
   ]
  },
  {
   "cell_type": "markdown",
   "metadata": {},
   "source": [
    "## Task 6: Timestamp the Data"
   ]
  },
  {
   "cell_type": "markdown",
   "metadata": {},
   "source": [
    "I used the following bash command to download weather data for the Athenry weather station from the Met Eireann URL and save the file with a timestamped name in the format ``YYYYmmdd_HHMMSS.json``.\n",
    "\n",
    "```sh\n",
    "   wget -O `date +\"%Y%m%d_%H%M%S.json\"` https://prodapi.metweb.ie/observations/athenry/today\n",
    "```\n",
    "&nbsp;&nbsp;&nbsp;&nbsp;&nbsp;&nbsp;*terminal output:*\n",
    "```output\n",
    "   --2024-10-29 19:06:17--  https://prodapi.metweb.ie/observations/athenry/today\n",
    "   Resolving prodapi.metweb.ie (prodapi.metweb.ie)... 139.162.185.91\n",
    "   Connecting to prodapi.metweb.ie (prodapi.metweb.ie)|139.162.185.91|:443... connected.\n",
    "   HTTP request sent, awaiting response... 200 OK\n",
    "   Length: unspecified [application/json]\n",
    "   Saving to: ‘20241029_190617.json’\n",
    "\n",
    "   20241029_190617.json     [ <=>         ]   5.62K  --.-KB/s    in 0s\n",
    "\n",
    "   2024-10-29 19:06:18 (33.4 MB/s) - ‘20241029_190617.json’ saved [5757]\n",
    "```"
   ]
  },
  {
   "cell_type": "markdown",
   "metadata": {},
   "source": [
    "## Task 7: Write the Script"
   ]
  },
  {
   "cell_type": "markdown",
   "metadata": {},
   "source": [
    "I navigated from the ``data/weather`` back to the root of my repository using the ``cd ../../`` command and then I used the ``touch`` command to create an empty file named ``weather.sh``.\n",
    "```sh\n",
    "   touch weather.sh\n",
    "```\n",
    "I copied the following bash command into ``weather.sh``:\n",
    "```sh\n",
    "   #! /bin/bash\n",
    "\n",
    "   wget -O data/weather/`date +\"%Y%m%d_%H%M%S.json\"` https://prodapi.metweb.ie/observations/athenry/today\n",
    "```\n",
    "The ``#! /bin/bash`` is known as the shebang and is added to the beginning of the script to instruct the operating system to use Bash as the default shell to run the script, as explained per [geeksforgeeks.org](\"https://www.geeksforgeeks.org/shell-scripting-define-bin-bash/\")."
   ]
  },
  {
   "cell_type": "markdown",
   "metadata": {},
   "source": [
    "Before running the bash script, I had to check if the ``weather.sh`` file is executable.\n",
    "\n",
    "I used the ``ls -l`` command to view the permissions of the file.\n",
    "```sh\n",
    "   ls -l weather.sh\n",
    "```\n",
    "&nbsp;&nbsp;&nbsp;&nbsp;&nbsp;&nbsp;*terminal output:*\n",
    "```output\n",
    "   -rwxrwxrwx 1 ewalsh ewalsh 116 Nov 27 20:46 weather.sh\n",
    "```\n",
    "The first column of the above output shows the permissions of the file and if this has the ``x`` permission, it is executable.\n",
    "\n",
    "If the file does not have the ``x`` permission the following bash command can be used to make the file executable:\n",
    "```bash\n",
    "   chmod +x weather.sh\n",
    "```"
   ]
  },
  {
   "cell_type": "markdown",
   "metadata": {},
   "source": [
    "Once I knew the ``weather.sh`` file had the ``x`` permission, I used the following bash command to execute the bash script:\n",
    "```sh\n",
    "   ./weather.sh\n",
    "```\n",
    "&nbsp;&nbsp;&nbsp;&nbsp;&nbsp;&nbsp;*terminal output:*\n",
    "```output\n",
    "   --2024-11-13 19:06:14--  https://prodapi.metweb.ie/observations/athenry/today\n",
    "   Resolving prodapi.metweb.ie (prodapi.metweb.ie)... 139.162.185.91\n",
    "   Connecting to prodapi.metweb.ie (prodapi.metweb.ie)|139.162.185.91|:443... connected.\n",
    "   HTTP request sent, awaiting response... 200 OK\n",
    "   Length: unspecified [application/json]\n",
    "   Saving to: ‘data/weather/20241113_190614.json’\n",
    "\n",
    "   data/weather/20241113_190614.json    [ <=>            ]   5.54K  --.-KB/s    in 0s\n",
    "\n",
    "   2024-11-13 19:06:15 (471 MB/s) - ‘data/weather/20241113_190614.json’ saved [5673]\n",
    "```\n"
   ]
  },
  {
   "cell_type": "markdown",
   "metadata": {},
   "source": [
    "When executed, the ``weather.sh`` bash script downloads the weather data from the URL and saves the file with a timestamped name to the ``data/weather`` directory."
   ]
  },
  {
   "cell_type": "markdown",
   "metadata": {},
   "source": [
    "## Task 8: Notebook"
   ]
  },
  {
   "cell_type": "markdown",
   "metadata": {},
   "source": [
    "I used the following bash command to create this notebook in the root of my ``comp_infra-assessment`` repository:\n",
    "\n",
    "```sh\n",
    "   touch weather.ipynb\n",
    "```"
   ]
  },
  {
   "cell_type": "markdown",
   "metadata": {},
   "source": [
    "## Task 9: pandas"
   ]
  },
  {
   "cell_type": "markdown",
   "metadata": {},
   "source": [
    "The following analysis is on weather data for Athenry, Co. Galway on October 29th, 2024. I obtained the data from [data.gov.ie](https://data.gov.ie/dataset/todays-weather-athenry) on October 29th at 7:06pm and it contains hourly observations from 12:00am to 6:00pm. The values for each hour, per [data.gov.ie](https://data.gov.ie/dataset/todays-weather-athenry), include: Name; Dry bulb temperature in whole degrees; Weather description, Windspeed (kt); Cardinal Wind Direction; Relative Humidity (%); Rainfall (mm); msl Pressure (mbar); Day of the week; Date; Time of observation."
   ]
  },
  {
   "cell_type": "markdown",
   "metadata": {},
   "source": [
    "### Import python modules and data"
   ]
  },
  {
   "cell_type": "code",
   "execution_count": 134,
   "metadata": {},
   "outputs": [],
   "source": [
    "# Import the modules.\n",
    "import pandas as pd\n",
    "import numpy as np\n",
    "import matplotlib.pyplot as plt\n",
    "import matplotlib.dates as mdates\n",
    "from matplotlib.ticker import AutoMinorLocator"
   ]
  },
  {
   "cell_type": "code",
   "execution_count": 135,
   "metadata": {},
   "outputs": [],
   "source": [
    "# Import the weather data to a pandas dataframe.\n",
    "json_file = \"./data/weather/20241029_190617.json\"\n",
    "df = pd.read_json(json_file)"
   ]
  },
  {
   "cell_type": "code",
   "execution_count": 136,
   "metadata": {},
   "outputs": [
    {
     "data": {
      "text/html": [
       "<div>\n",
       "<style scoped>\n",
       "    .dataframe tbody tr th:only-of-type {\n",
       "        vertical-align: middle;\n",
       "    }\n",
       "\n",
       "    .dataframe tbody tr th {\n",
       "        vertical-align: top;\n",
       "    }\n",
       "\n",
       "    .dataframe thead th {\n",
       "        text-align: right;\n",
       "    }\n",
       "</style>\n",
       "<table border=\"1\" class=\"dataframe\">\n",
       "  <thead>\n",
       "    <tr style=\"text-align: right;\">\n",
       "      <th></th>\n",
       "      <th>name</th>\n",
       "      <th>temperature</th>\n",
       "      <th>symbol</th>\n",
       "      <th>weatherDescription</th>\n",
       "      <th>text</th>\n",
       "      <th>windSpeed</th>\n",
       "      <th>windGust</th>\n",
       "      <th>cardinalWindDirection</th>\n",
       "      <th>windDirection</th>\n",
       "      <th>humidity</th>\n",
       "      <th>rainfall</th>\n",
       "      <th>pressure</th>\n",
       "      <th>dayName</th>\n",
       "      <th>date</th>\n",
       "      <th>reportTime</th>\n",
       "    </tr>\n",
       "  </thead>\n",
       "  <tbody>\n",
       "    <tr>\n",
       "      <th>0</th>\n",
       "      <td>Athenry</td>\n",
       "      <td>10</td>\n",
       "      <td>15n</td>\n",
       "      <td>Fog / Mist</td>\n",
       "      <td>\"Mist\"</td>\n",
       "      <td>4</td>\n",
       "      <td>-</td>\n",
       "      <td>W</td>\n",
       "      <td>270</td>\n",
       "      <td>97</td>\n",
       "      <td>0.0</td>\n",
       "      <td>1023</td>\n",
       "      <td>Tuesday</td>\n",
       "      <td>2024-10-29</td>\n",
       "      <td>00:00</td>\n",
       "    </tr>\n",
       "    <tr>\n",
       "      <th>1</th>\n",
       "      <td>Athenry</td>\n",
       "      <td>9</td>\n",
       "      <td>15n</td>\n",
       "      <td>Fog / Mist</td>\n",
       "      <td>\"Fog thickening\"</td>\n",
       "      <td>4</td>\n",
       "      <td>-</td>\n",
       "      <td>SW</td>\n",
       "      <td>225</td>\n",
       "      <td>97</td>\n",
       "      <td>0.0</td>\n",
       "      <td>1024</td>\n",
       "      <td>Tuesday</td>\n",
       "      <td>2024-10-29</td>\n",
       "      <td>01:00</td>\n",
       "    </tr>\n",
       "    <tr>\n",
       "      <th>2</th>\n",
       "      <td>Athenry</td>\n",
       "      <td>9</td>\n",
       "      <td>15n</td>\n",
       "      <td>Fog / Mist</td>\n",
       "      <td>\"Fog thickening\"</td>\n",
       "      <td>2</td>\n",
       "      <td>-</td>\n",
       "      <td>W</td>\n",
       "      <td>270</td>\n",
       "      <td>99</td>\n",
       "      <td>0.0</td>\n",
       "      <td>1024</td>\n",
       "      <td>Tuesday</td>\n",
       "      <td>2024-10-29</td>\n",
       "      <td>02:00</td>\n",
       "    </tr>\n",
       "    <tr>\n",
       "      <th>3</th>\n",
       "      <td>Athenry</td>\n",
       "      <td>9</td>\n",
       "      <td>15n</td>\n",
       "      <td>Fog / Mist</td>\n",
       "      <td>\"Fog thinning\"</td>\n",
       "      <td>4</td>\n",
       "      <td>-</td>\n",
       "      <td>SW</td>\n",
       "      <td>225</td>\n",
       "      <td>99</td>\n",
       "      <td>0.0</td>\n",
       "      <td>1024</td>\n",
       "      <td>Tuesday</td>\n",
       "      <td>2024-10-29</td>\n",
       "      <td>03:00</td>\n",
       "    </tr>\n",
       "    <tr>\n",
       "      <th>4</th>\n",
       "      <td>Athenry</td>\n",
       "      <td>9</td>\n",
       "      <td>15n</td>\n",
       "      <td>Fog / Mist</td>\n",
       "      <td>\"Fog thickening\"</td>\n",
       "      <td>6</td>\n",
       "      <td>-</td>\n",
       "      <td>SW</td>\n",
       "      <td>225</td>\n",
       "      <td>99</td>\n",
       "      <td>0.1</td>\n",
       "      <td>1024</td>\n",
       "      <td>Tuesday</td>\n",
       "      <td>2024-10-29</td>\n",
       "      <td>04:00</td>\n",
       "    </tr>\n",
       "    <tr>\n",
       "      <th>5</th>\n",
       "      <td>Athenry</td>\n",
       "      <td>8</td>\n",
       "      <td>15n</td>\n",
       "      <td>Fog / Mist</td>\n",
       "      <td>\"Fog thinning\"</td>\n",
       "      <td>-</td>\n",
       "      <td>-</td>\n",
       "      <td></td>\n",
       "      <td>0</td>\n",
       "      <td>98</td>\n",
       "      <td>0.0</td>\n",
       "      <td>1025</td>\n",
       "      <td>Tuesday</td>\n",
       "      <td>2024-10-29</td>\n",
       "      <td>05:00</td>\n",
       "    </tr>\n",
       "    <tr>\n",
       "      <th>6</th>\n",
       "      <td>Athenry</td>\n",
       "      <td>6</td>\n",
       "      <td>15n</td>\n",
       "      <td>Fog / Mist</td>\n",
       "      <td>\"Fog thickening\"</td>\n",
       "      <td>-</td>\n",
       "      <td>-</td>\n",
       "      <td></td>\n",
       "      <td>0</td>\n",
       "      <td>98</td>\n",
       "      <td>0.0</td>\n",
       "      <td>1025</td>\n",
       "      <td>Tuesday</td>\n",
       "      <td>2024-10-29</td>\n",
       "      <td>06:00</td>\n",
       "    </tr>\n",
       "    <tr>\n",
       "      <th>7</th>\n",
       "      <td>Athenry</td>\n",
       "      <td>7</td>\n",
       "      <td>15n</td>\n",
       "      <td>Fog / Mist</td>\n",
       "      <td>\"Fog\"</td>\n",
       "      <td>2</td>\n",
       "      <td>-</td>\n",
       "      <td>SW</td>\n",
       "      <td>225</td>\n",
       "      <td>99</td>\n",
       "      <td>0.0</td>\n",
       "      <td>1025</td>\n",
       "      <td>Tuesday</td>\n",
       "      <td>2024-10-29</td>\n",
       "      <td>07:00</td>\n",
       "    </tr>\n",
       "    <tr>\n",
       "      <th>8</th>\n",
       "      <td>Athenry</td>\n",
       "      <td>7</td>\n",
       "      <td>15d</td>\n",
       "      <td>Fog / Mist</td>\n",
       "      <td>\"Fog thinning\"</td>\n",
       "      <td>-</td>\n",
       "      <td>-</td>\n",
       "      <td></td>\n",
       "      <td>0</td>\n",
       "      <td>97</td>\n",
       "      <td>0.1</td>\n",
       "      <td>1026</td>\n",
       "      <td>Tuesday</td>\n",
       "      <td>2024-10-29</td>\n",
       "      <td>08:00</td>\n",
       "    </tr>\n",
       "    <tr>\n",
       "      <th>9</th>\n",
       "      <td>Athenry</td>\n",
       "      <td>9</td>\n",
       "      <td>15d</td>\n",
       "      <td>Fog / Mist</td>\n",
       "      <td>\"Fog\"</td>\n",
       "      <td>2</td>\n",
       "      <td>-</td>\n",
       "      <td>S</td>\n",
       "      <td>180</td>\n",
       "      <td>98</td>\n",
       "      <td>0.0</td>\n",
       "      <td>1026</td>\n",
       "      <td>Tuesday</td>\n",
       "      <td>2024-10-29</td>\n",
       "      <td>09:00</td>\n",
       "    </tr>\n",
       "    <tr>\n",
       "      <th>10</th>\n",
       "      <td>Athenry</td>\n",
       "      <td>10</td>\n",
       "      <td>15d</td>\n",
       "      <td>Fog / Mist</td>\n",
       "      <td>\"Recent Fog\"</td>\n",
       "      <td>4</td>\n",
       "      <td>-</td>\n",
       "      <td>SW</td>\n",
       "      <td>225</td>\n",
       "      <td>98</td>\n",
       "      <td>0.0</td>\n",
       "      <td>1026</td>\n",
       "      <td>Tuesday</td>\n",
       "      <td>2024-10-29</td>\n",
       "      <td>10:00</td>\n",
       "    </tr>\n",
       "    <tr>\n",
       "      <th>11</th>\n",
       "      <td>Athenry</td>\n",
       "      <td>11</td>\n",
       "      <td>15d</td>\n",
       "      <td>Fog / Mist</td>\n",
       "      <td>\"Fog patches\"</td>\n",
       "      <td>6</td>\n",
       "      <td>-</td>\n",
       "      <td>SW</td>\n",
       "      <td>225</td>\n",
       "      <td>97</td>\n",
       "      <td>0.0</td>\n",
       "      <td>1027</td>\n",
       "      <td>Tuesday</td>\n",
       "      <td>2024-10-29</td>\n",
       "      <td>11:00</td>\n",
       "    </tr>\n",
       "    <tr>\n",
       "      <th>12</th>\n",
       "      <td>Athenry</td>\n",
       "      <td>12</td>\n",
       "      <td>04d</td>\n",
       "      <td>Cloudy</td>\n",
       "      <td>\"Cloudy\"</td>\n",
       "      <td>6</td>\n",
       "      <td>-</td>\n",
       "      <td>W</td>\n",
       "      <td>270</td>\n",
       "      <td>97</td>\n",
       "      <td>0.0</td>\n",
       "      <td>1027</td>\n",
       "      <td>Tuesday</td>\n",
       "      <td>2024-10-29</td>\n",
       "      <td>12:00</td>\n",
       "    </tr>\n",
       "    <tr>\n",
       "      <th>13</th>\n",
       "      <td>Athenry</td>\n",
       "      <td>13</td>\n",
       "      <td>04d</td>\n",
       "      <td>Cloudy</td>\n",
       "      <td>\"Cloudy\"</td>\n",
       "      <td>9</td>\n",
       "      <td>-</td>\n",
       "      <td>SW</td>\n",
       "      <td>225</td>\n",
       "      <td>92</td>\n",
       "      <td>0.0</td>\n",
       "      <td>1027</td>\n",
       "      <td>Tuesday</td>\n",
       "      <td>2024-10-29</td>\n",
       "      <td>13:00</td>\n",
       "    </tr>\n",
       "    <tr>\n",
       "      <th>14</th>\n",
       "      <td>Athenry</td>\n",
       "      <td>13</td>\n",
       "      <td>04d</td>\n",
       "      <td>Cloudy</td>\n",
       "      <td>\"Cloudy\"</td>\n",
       "      <td>7</td>\n",
       "      <td>-</td>\n",
       "      <td>W</td>\n",
       "      <td>270</td>\n",
       "      <td>88</td>\n",
       "      <td>0.0</td>\n",
       "      <td>1027</td>\n",
       "      <td>Tuesday</td>\n",
       "      <td>2024-10-29</td>\n",
       "      <td>14:00</td>\n",
       "    </tr>\n",
       "    <tr>\n",
       "      <th>15</th>\n",
       "      <td>Athenry</td>\n",
       "      <td>14</td>\n",
       "      <td>02d</td>\n",
       "      <td>Fair</td>\n",
       "      <td>\"Fair\"</td>\n",
       "      <td>7</td>\n",
       "      <td>-</td>\n",
       "      <td>W</td>\n",
       "      <td>270</td>\n",
       "      <td>81</td>\n",
       "      <td>0.0</td>\n",
       "      <td>1026</td>\n",
       "      <td>Tuesday</td>\n",
       "      <td>2024-10-29</td>\n",
       "      <td>15:00</td>\n",
       "    </tr>\n",
       "    <tr>\n",
       "      <th>16</th>\n",
       "      <td>Athenry</td>\n",
       "      <td>14</td>\n",
       "      <td>02d</td>\n",
       "      <td>Fair</td>\n",
       "      <td>\"Fair\"</td>\n",
       "      <td>7</td>\n",
       "      <td>-</td>\n",
       "      <td>W</td>\n",
       "      <td>270</td>\n",
       "      <td>88</td>\n",
       "      <td>0.0</td>\n",
       "      <td>1027</td>\n",
       "      <td>Tuesday</td>\n",
       "      <td>2024-10-29</td>\n",
       "      <td>16:00</td>\n",
       "    </tr>\n",
       "    <tr>\n",
       "      <th>17</th>\n",
       "      <td>Athenry</td>\n",
       "      <td>12</td>\n",
       "      <td>04d</td>\n",
       "      <td>Cloudy</td>\n",
       "      <td>\"Cloudy\"</td>\n",
       "      <td>6</td>\n",
       "      <td>-</td>\n",
       "      <td>SW</td>\n",
       "      <td>225</td>\n",
       "      <td>93</td>\n",
       "      <td>0.0</td>\n",
       "      <td>1027</td>\n",
       "      <td>Tuesday</td>\n",
       "      <td>2024-10-29</td>\n",
       "      <td>17:00</td>\n",
       "    </tr>\n",
       "    <tr>\n",
       "      <th>18</th>\n",
       "      <td>Athenry</td>\n",
       "      <td>12</td>\n",
       "      <td>04n</td>\n",
       "      <td>Cloudy</td>\n",
       "      <td>\"Cloudy\"</td>\n",
       "      <td>2</td>\n",
       "      <td>-</td>\n",
       "      <td>SW</td>\n",
       "      <td>225</td>\n",
       "      <td>94</td>\n",
       "      <td>0.0</td>\n",
       "      <td>1028</td>\n",
       "      <td>Tuesday</td>\n",
       "      <td>2024-10-29</td>\n",
       "      <td>18:00</td>\n",
       "    </tr>\n",
       "  </tbody>\n",
       "</table>\n",
       "</div>"
      ],
      "text/plain": [
       "       name  temperature symbol weatherDescription              text  \\\n",
       "0   Athenry           10    15n         Fog / Mist            \"Mist\"   \n",
       "1   Athenry            9    15n         Fog / Mist  \"Fog thickening\"   \n",
       "2   Athenry            9    15n         Fog / Mist  \"Fog thickening\"   \n",
       "3   Athenry            9    15n         Fog / Mist    \"Fog thinning\"   \n",
       "4   Athenry            9    15n         Fog / Mist  \"Fog thickening\"   \n",
       "5   Athenry            8    15n         Fog / Mist    \"Fog thinning\"   \n",
       "6   Athenry            6    15n         Fog / Mist  \"Fog thickening\"   \n",
       "7   Athenry            7    15n         Fog / Mist             \"Fog\"   \n",
       "8   Athenry            7    15d         Fog / Mist    \"Fog thinning\"   \n",
       "9   Athenry            9    15d         Fog / Mist             \"Fog\"   \n",
       "10  Athenry           10    15d         Fog / Mist      \"Recent Fog\"   \n",
       "11  Athenry           11    15d         Fog / Mist     \"Fog patches\"   \n",
       "12  Athenry           12    04d             Cloudy          \"Cloudy\"   \n",
       "13  Athenry           13    04d             Cloudy          \"Cloudy\"   \n",
       "14  Athenry           13    04d             Cloudy          \"Cloudy\"   \n",
       "15  Athenry           14    02d               Fair            \"Fair\"   \n",
       "16  Athenry           14    02d               Fair            \"Fair\"   \n",
       "17  Athenry           12    04d             Cloudy          \"Cloudy\"   \n",
       "18  Athenry           12    04n             Cloudy          \"Cloudy\"   \n",
       "\n",
       "   windSpeed windGust cardinalWindDirection  windDirection  humidity  \\\n",
       "0          4        -                     W            270        97   \n",
       "1          4        -                    SW            225        97   \n",
       "2          2        -                     W            270        99   \n",
       "3          4        -                    SW            225        99   \n",
       "4          6        -                    SW            225        99   \n",
       "5          -        -                                    0        98   \n",
       "6          -        -                                    0        98   \n",
       "7          2        -                    SW            225        99   \n",
       "8          -        -                                    0        97   \n",
       "9          2        -                     S            180        98   \n",
       "10         4        -                    SW            225        98   \n",
       "11         6        -                    SW            225        97   \n",
       "12         6        -                     W            270        97   \n",
       "13         9        -                    SW            225        92   \n",
       "14         7        -                     W            270        88   \n",
       "15         7        -                     W            270        81   \n",
       "16         7        -                     W            270        88   \n",
       "17         6        -                    SW            225        93   \n",
       "18         2        -                    SW            225        94   \n",
       "\n",
       "    rainfall  pressure  dayName       date reportTime  \n",
       "0        0.0      1023  Tuesday 2024-10-29      00:00  \n",
       "1        0.0      1024  Tuesday 2024-10-29      01:00  \n",
       "2        0.0      1024  Tuesday 2024-10-29      02:00  \n",
       "3        0.0      1024  Tuesday 2024-10-29      03:00  \n",
       "4        0.1      1024  Tuesday 2024-10-29      04:00  \n",
       "5        0.0      1025  Tuesday 2024-10-29      05:00  \n",
       "6        0.0      1025  Tuesday 2024-10-29      06:00  \n",
       "7        0.0      1025  Tuesday 2024-10-29      07:00  \n",
       "8        0.1      1026  Tuesday 2024-10-29      08:00  \n",
       "9        0.0      1026  Tuesday 2024-10-29      09:00  \n",
       "10       0.0      1026  Tuesday 2024-10-29      10:00  \n",
       "11       0.0      1027  Tuesday 2024-10-29      11:00  \n",
       "12       0.0      1027  Tuesday 2024-10-29      12:00  \n",
       "13       0.0      1027  Tuesday 2024-10-29      13:00  \n",
       "14       0.0      1027  Tuesday 2024-10-29      14:00  \n",
       "15       0.0      1026  Tuesday 2024-10-29      15:00  \n",
       "16       0.0      1027  Tuesday 2024-10-29      16:00  \n",
       "17       0.0      1027  Tuesday 2024-10-29      17:00  \n",
       "18       0.0      1028  Tuesday 2024-10-29      18:00  "
      ]
     },
     "execution_count": 136,
     "metadata": {},
     "output_type": "execute_result"
    }
   ],
   "source": [
    "# Let's look at the data.\n",
    "df"
   ]
  },
  {
   "cell_type": "markdown",
   "metadata": {},
   "source": [
    "### Clean the data"
   ]
  },
  {
   "cell_type": "code",
   "execution_count": 137,
   "metadata": {},
   "outputs": [
    {
     "name": "stdout",
     "output_type": "stream",
     "text": [
      "<class 'pandas.core.frame.DataFrame'>\n",
      "RangeIndex: 19 entries, 0 to 18\n",
      "Data columns (total 15 columns):\n",
      " #   Column                 Non-Null Count  Dtype         \n",
      "---  ------                 --------------  -----         \n",
      " 0   name                   19 non-null     object        \n",
      " 1   temperature            19 non-null     int64         \n",
      " 2   symbol                 19 non-null     object        \n",
      " 3   weatherDescription     19 non-null     object        \n",
      " 4   text                   19 non-null     object        \n",
      " 5   windSpeed              19 non-null     object        \n",
      " 6   windGust               19 non-null     object        \n",
      " 7   cardinalWindDirection  19 non-null     object        \n",
      " 8   windDirection          19 non-null     int64         \n",
      " 9   humidity               19 non-null     int64         \n",
      " 10  rainfall               19 non-null     float64       \n",
      " 11  pressure               19 non-null     int64         \n",
      " 12  dayName                19 non-null     object        \n",
      " 13  date                   19 non-null     datetime64[ns]\n",
      " 14  reportTime             19 non-null     object        \n",
      "dtypes: datetime64[ns](1), float64(1), int64(4), object(9)\n",
      "memory usage: 2.4+ KB\n"
     ]
    }
   ],
   "source": [
    "# Let's check the data types of the columns.\n",
    "df.info()"
   ]
  },
  {
   "cell_type": "code",
   "execution_count": 138,
   "metadata": {},
   "outputs": [],
   "source": [
    "# Let's update the windSpeed to numeric dype and replace any NaN with 0.\n",
    "# References:\n",
    "# https://pandas.pydata.org/docs/reference/api/pandas.to_numeric.html\n",
    "# https://pandas.pydata.org/docs/reference/api/pandas.DataFrame.fillna.html\n",
    "df[\"windSpeed\"] = pd.to_numeric(df[\"windSpeed\"], downcast=\"integer\",\n",
    "                                errors=\"coerce\"\n",
    "                                ).fillna(value=0)"
   ]
  },
  {
   "cell_type": "code",
   "execution_count": 139,
   "metadata": {},
   "outputs": [],
   "source": [
    "# Let's replace blanks in cardinalWindDirection with NaN.\n",
    "# References:\n",
    "# https://pandas.pydata.org/docs/reference/api/pandas.DataFrame.replace.html\n",
    "df[\"cardinalWindDirection\"] = df[\"cardinalWindDirection\"].replace(\"\", np.nan)"
   ]
  },
  {
   "cell_type": "code",
   "execution_count": 140,
   "metadata": {},
   "outputs": [],
   "source": [
    "# Let's create new column called dateTime that\n",
    "# combines the date and reportTime columns.\n",
    "# References:\n",
    "# https://www.statology.org/pandas-combine-date-and-time-columns/\n",
    "df[\"dateTime\"] = pd.to_datetime(df[\"date\"].astype(str) + df[\"reportTime\"],\n",
    "                                format=\"%Y-%m-%d%H:%M\")"
   ]
  },
  {
   "cell_type": "markdown",
   "metadata": {},
   "source": [
    "### Plots"
   ]
  },
  {
   "cell_type": "code",
   "execution_count": 141,
   "metadata": {},
   "outputs": [
    {
     "data": {
      "text/plain": [
       "Text(0   2024-10-29\n",
       "Name: dateTime, dtype: datetime64[ns], 12.5, 'max temp: 14 C\\nmin temp: 6 C\\nmean temp: 10.21 C')"
      ]
     },
     "execution_count": 141,
     "metadata": {},
     "output_type": "execute_result"
    },
    {
     "data": {
      "image/png": "[encoded data removed]",
      "text/plain": [
       "<Figure size 640x480 with 1 Axes>"
      ]
     },
     "metadata": {},
     "output_type": "display_data"
    }
   ],
   "source": [
    "# Let's plot the temperature.\n",
    "fig, ax = plt.subplots()\n",
    "\n",
    "# x variable.\n",
    "time = df[\"dateTime\"]\n",
    "# y variable.\n",
    "temp = df[\"temperature\"]\n",
    "\n",
    "# Format the datetime x axis.\n",
    "# References:\n",
    "# https://matplotlib.org/stable/api/dates_api.html#matplotlib.dates.ConciseDateFormatter\n",
    "# https://matplotlib.org/stable/gallery/showcase/anatomy.html#anatomy-of-a-figure\n",
    "# https://matplotlib.org/stable/api/_as_gen/matplotlib.figure.Figure.autofmt_xdate.html\n",
    "locator = mdates.AutoDateLocator()\n",
    "formatter = mdates.ConciseDateFormatter(locator)\n",
    "ax.xaxis.set_major_formatter(formatter)\n",
    "ax.xaxis.set_minor_locator(AutoMinorLocator(2))\n",
    "fig.autofmt_xdate()\n",
    "\n",
    "# Set title, axis labels and legend.\n",
    "ax.set_title(\"Athenry Hourly Temperature\")\n",
    "ax.set_xlabel(\"Time\")\n",
    "ax.set_ylabel(\"Temperature (C)\")\n",
    "\n",
    "# Plot.\n",
    "# References:\n",
    "# https://matplotlib.org/stable/gallery/lines_bars_and_markers/fill_between_alpha.html\n",
    "ax.fill_between(time, temp.min(), temp, color=\"orange\", alpha=0.5)\n",
    "\n",
    "# Add text box for descriptive statistics.\n",
    "# References:\n",
    "# https://matplotlib.org/stable/gallery/specialty_plots/anscombe.html\n",
    "text = (f\"max temp: {temp.max()} C\\n\"\n",
    "        f\"min temp: {temp.min()} C\\n\"\n",
    "        f\"mean temp: {temp.mean():.2f} C\")\n",
    "bbox = dict(boxstyle=\"round\", fc=(\"orange\", 0.1), ec=(\"orange\", 0.5))\n",
    "x_loc = df[\"dateTime\"].iloc[:1]\n",
    "y_loc = 12.5\n",
    "ax.text(x_loc, y_loc, text, bbox=bbox)"
   ]
  },
  {
   "cell_type": "code",
   "execution_count": 142,
   "metadata": {},
   "outputs": [
    {
     "data": {
      "text/plain": [
       "Text(0   2024-10-29\n",
       "Name: dateTime, dtype: datetime64[ns], 7, 'max windspeed: 9 kt\\nmin windspeed: 0 kt\\nmean windspeed: 4.11 kt')"
      ]
     },
     "execution_count": 142,
     "metadata": {},
     "output_type": "execute_result"
    },
    {
     "data": {
      "image/png": "[encoded data removed]",
      "text/plain": [
       "<Figure size 640x480 with 1 Axes>"
      ]
     },
     "metadata": {},
     "output_type": "display_data"
    }
   ],
   "source": [
    "# Let's plot the windspeed.\n",
    "fig, ax = plt.subplots()\n",
    "\n",
    "# x variable.\n",
    "time = df[\"dateTime\"]\n",
    "# y variable.\n",
    "wind = df[\"windSpeed\"]\n",
    "\n",
    "# Format the datetime x axis.\n",
    "locator = mdates.AutoDateLocator()\n",
    "formatter = mdates.ConciseDateFormatter(locator)\n",
    "ax.xaxis.set_major_formatter(formatter)\n",
    "ax.xaxis.set_minor_locator(AutoMinorLocator(2))\n",
    "fig.autofmt_xdate()\n",
    "\n",
    "# Set title and axis labels.\n",
    "ax.set_title(\"Athenry Hourly Windspeed\")\n",
    "ax.set_xlabel(\"Time\")\n",
    "ax.set_ylabel(\"Windspeed (kt)\")\n",
    "\n",
    "# Plot.\n",
    "ax.fill_between(time, wind.min(), wind, alpha=0.5)\n",
    "\n",
    "# Add text box for descriptive stats.\n",
    "text = (f\"max windspeed: {wind.max():.0f} kt\\n\"\n",
    "        f\"min windspeed: {wind.min():.0f} kt\\n\"\n",
    "        f\"mean windspeed: {wind.mean():.2f} kt\")\n",
    "bbox = dict(boxstyle='round', fc=(\"tab:blue\", 0.1), ec=(\"tab:blue\", 0.5))\n",
    "x_loc = df[\"dateTime\"].iloc[:1]\n",
    "y_loc = 7\n",
    "ax.text(x_loc, y_loc, text, bbox=bbox)"
   ]
  },
  {
   "cell_type": "code",
   "execution_count": 165,
   "metadata": {},
   "outputs": [
    {
     "data": {
      "text/plain": [
       "<matplotlib.legend.Legend at 0x194dd8858b0>"
      ]
     },
     "execution_count": 165,
     "metadata": {},
     "output_type": "execute_result"
    },
    {
     "data": {
      "image/png": "[encoded data removed]",
      "text/plain": [
       "<Figure size 640x480 with 1 Axes>"
      ]
     },
     "metadata": {},
     "output_type": "display_data"
    }
   ],
   "source": [
    "# Let's plot the wind direction.\n",
    "fig, ax = plt.subplots()\n",
    "\n",
    "wind_direction = df[\"cardinalWindDirection\"].value_counts()\n",
    "labels = wind_direction.index\n",
    "\n",
    "ax.pie(wind_direction, shadow=True, explode=(0.1, 0, 0))\n",
    "\n",
    "ax.set_title(\"Athenry Wind Direction\")\n",
    "ax.legend(loc=\"upper left\", labels=labels)"
   ]
  },
  {
   "cell_type": "markdown",
   "metadata": {},
   "source": [
    "***\n",
    "\n",
    "## End"
   ]
  }
 ],
 "metadata": {
  "kernelspec": {
   "display_name": "base",
   "language": "python",
   "name": "python3"
  },
  "language_info": {
   "codemirror_mode": {
    "name": "ipython",
    "version": 3
   },
   "file_extension": ".py",
   "mimetype": "text/x-python",
   "name": "python",
   "nbconvert_exporter": "python",
   "pygments_lexer": "ipython3",
   "version": "3.12.4"
  }
 },
 "nbformat": 4,
 "nbformat_minor": 2
}
