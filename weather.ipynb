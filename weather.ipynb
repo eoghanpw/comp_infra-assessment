{
 "cells": [
  {
   "cell_type": "markdown",
   "metadata": {},
   "source": [
    "# Computer Infrastructure - Tasks Notebook\n",
    "\n",
    "This notebook summarizes my work on the tasks portion of the assessment for the module Computer Infrastructure.\n",
    "\n",
    "*by Eoghan Walsh*"
   ]
  },
  {
   "cell_type": "markdown",
   "metadata": {},
   "source": [
    "## Task 1: Create Directory Structure"
   ]
  },
  {
   "cell_type": "markdown",
   "metadata": {},
   "source": [
    "The following Bash code was used to create a directory named ``data`` and two subdirectories ``timestamps`` and ``weather``:\n",
    "\n",
    "```ps\n",
    "mkdir -p data/timestamps\n",
    "mkdir -p data/weather\n",
    "```"
   ]
  },
  {
   "cell_type": "markdown",
   "metadata": {},
   "source": [
    "## Task 2: Timestamps"
   ]
  },
  {
   "cell_type": "markdown",
   "metadata": {},
   "source": [
    "The following Bash code was used to append the current date and time to a file named `now.txt`:\n",
    "\n",
    "```ps\n",
    "date >> now.txt\n",
    "```"
   ]
  },
  {
   "cell_type": "markdown",
   "metadata": {},
   "source": [
    "The current date and time was added to the file ten times and the following bash commmand was used to verify the content of the file `now.txt`:\n",
    "\n",
    "```ps\n",
    "$ more now.txt\n",
    "Wed Oct 16 20:09:59 IST 2024\n",
    "Wed Oct 16 20:10:01 IST 2024\n",
    "Wed Oct 16 20:10:02 IST 2024\n",
    "Wed Oct 16 20:10:04 IST 2024\n",
    "Wed Oct 16 20:10:05 IST 2024\n",
    "Wed Oct 16 20:10:06 IST 2024\n",
    "Wed Oct 16 20:10:07 IST 2024\n",
    "Wed Oct 16 20:10:08 IST 2024\n",
    "Wed Oct 16 20:10:17 IST 2024\n",
    "Wed Oct 16 20:10:18 IST 2024\n",
    "```"
   ]
  },
  {
   "cell_type": "markdown",
   "metadata": {},
   "source": [
    "## Task 3: Formatting Timestamps"
   ]
  },
  {
   "cell_type": "markdown",
   "metadata": {},
   "source": [
    "The following Bash code was used to append the current date and time to a file named ``formatted.txt`` in the format ``YYYYmmdd_HHMMSS``:\n",
    "\n",
    "```ps\n",
    "date +\"%Y%m%d_%H%M%S\" >> formatted.txt\n",
    "```"
   ]
  },
  {
   "cell_type": "markdown",
   "metadata": {},
   "source": [
    "## Task 4: Create Timestamped Files"
   ]
  },
  {
   "cell_type": "markdown",
   "metadata": {},
   "source": [
    "## Task 5: Download Today's Weather Data"
   ]
  },
  {
   "cell_type": "markdown",
   "metadata": {},
   "source": [
    "## Task 6: Timestamp the Data"
   ]
  },
  {
   "cell_type": "markdown",
   "metadata": {},
   "source": [
    "## Task 7: Write the Script"
   ]
  },
  {
   "cell_type": "markdown",
   "metadata": {},
   "source": [
    "## Task 8: Notebook"
   ]
  },
  {
   "cell_type": "markdown",
   "metadata": {},
   "source": [
    "The following Bash code was used to create this notebook:\n",
    "\n",
    "```ps\n",
    "touch weather2.ipynb\n",
    "```"
   ]
  },
  {
   "cell_type": "markdown",
   "metadata": {},
   "source": [
    "## Task 9: pandas"
   ]
  },
  {
   "cell_type": "markdown",
   "metadata": {},
   "source": [
    "***\n",
    "\n",
    "### End"
   ]
  }
 ],
 "metadata": {
  "kernelspec": {
   "display_name": "base",
   "language": "python",
   "name": "python3"
  },
  "language_info": {
   "codemirror_mode": {
    "name": "ipython",
    "version": 3
   },
   "file_extension": ".py",
   "mimetype": "text/x-python",
   "name": "python",
   "nbconvert_exporter": "python",
   "pygments_lexer": "ipython3",
   "version": "3.12.4"
  }
 },
 "nbformat": 4,
 "nbformat_minor": 2
}
